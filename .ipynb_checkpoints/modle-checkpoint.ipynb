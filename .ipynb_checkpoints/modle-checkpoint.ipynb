{
 "cells": [
  {
   "cell_type": "code",
   "execution_count": 1,
   "id": "e1b9f669",
   "metadata": {},
   "outputs": [],
   "source": [
    "import numpy as np\n",
    "import tensorflow as tf\n",
    "import pandas as pd\n",
    "from  sklearn import preprocessing"
   ]
  },
  {
   "cell_type": "code",
   "execution_count": 2,
   "id": "83262935",
   "metadata": {},
   "outputs": [],
   "source": [
    "raw_csv_data=np.loadtxt('C:/Users/ITVIRACo/Desktop/A/2/33_Audiobooks_data_Without_Headers.csv',delimiter=',')\n"
   ]
  },
  {
   "cell_type": "code",
   "execution_count": 3,
   "id": "f4ec49d5",
   "metadata": {},
   "outputs": [
    {
     "data": {
      "text/plain": [
       "14084"
      ]
     },
     "execution_count": 3,
     "metadata": {},
     "output_type": "execute_result"
    }
   ],
   "source": [
    "unscaled_input_all=raw_csv_data[:,1:-1]\n",
    "targets_all=raw_csv_data[:,-1]\n",
    "targets_all.shape[0]"
   ]
  },
  {
   "cell_type": "code",
   "execution_count": 4,
   "id": "7c5c8f02",
   "metadata": {},
   "outputs": [
    {
     "data": {
      "text/plain": [
       "2237"
      ]
     },
     "execution_count": 4,
     "metadata": {},
     "output_type": "execute_result"
    }
   ],
   "source": [
    "num_one_targets=int(np.sum(targets_all))\n",
    "num_one_targets"
   ]
  },
  {
   "cell_type": "code",
   "execution_count": 5,
   "id": "ffdf64fd",
   "metadata": {},
   "outputs": [],
   "source": [
    "#for balanc targets zero and one\n",
    "zero_targets_counter=0\n",
    "indices_to_remove=[]\n",
    "\n",
    "for i in range(targets_all.shape[0]):\n",
    "    if targets_all[i]==0:\n",
    "        zero_targets_counter+=1\n",
    "        if zero_targets_counter>num_one_targets:\n",
    "            indices_to_remove.append(i)\n"
   ]
  },
  {
   "cell_type": "code",
   "execution_count": 6,
   "id": "e1a13c65",
   "metadata": {},
   "outputs": [],
   "source": [
    "unscaled_input_equal_priors=np.delete(unscaled_input_all,indices_to_remove,axis=0)\n",
    "targets_equal_priors=np.delete(targets_all,indices_to_remove,axis=0)\n"
   ]
  },
  {
   "cell_type": "code",
   "execution_count": 7,
   "id": "6184466d",
   "metadata": {},
   "outputs": [],
   "source": [
    "#standardize the inputs\n",
    "scaled_input=preprocessing.scale(unscaled_input_equal_priors)\n",
    "\n",
    "\n",
    "#shuffle the data\n",
    "shuffled_indices=np.arange(scaled_input.shape[0])\n",
    "np.random.shuffle(shuffled_indices)\n",
    "shuffled_inputs=scaled_input[shuffled_indices]\n",
    "shuffled_targets=targets_equal_priors[shuffled_indices]\n"
   ]
  },
  {
   "cell_type": "code",
   "execution_count": 8,
   "id": "38504f4c",
   "metadata": {},
   "outputs": [],
   "source": [
    "#Split the dataset in to train,Validation and test 80-10-10\n",
    "\n",
    "samples_count=shuffled_inputs.shape[0]\n",
    "train_sample_count=int(0.8*samples_count)\n",
    "validation_sample_count=int(0.1*samples_count)\n",
    "test_sample_count=samples_count-train_sample_count-validation_sample_count\n"
   ]
  },
  {
   "cell_type": "code",
   "execution_count": 9,
   "id": "334d6584",
   "metadata": {},
   "outputs": [],
   "source": [
    "#Split the dataset in to train,Validation and test 80-10-10\n",
    "\n",
    "\n",
    "train_inputs = shuffled_inputs[:train_sample_count]\n",
    "train_targets=shuffled_targets[:train_sample_count]\n",
    "\n",
    "validation_inputs = shuffled_inputs[train_sample_count:train_sample_count+validation_sample_count]\n",
    "validation_targets=shuffled_targets[train_sample_count:train_sample_count+validation_sample_count]\n",
    "\n",
    "test_inputs = shuffled_inputs[train_sample_count+validation_sample_count:]\n",
    "test_targets=shuffled_targets[train_sample_count+validation_sample_count:]"
   ]
  },
  {
   "cell_type": "code",
   "execution_count": 10,
   "id": "555960b2",
   "metadata": {},
   "outputs": [
    {
     "name": "stdout",
     "output_type": "stream",
     "text": [
      "1804.0 3579 0.5040514110086617\n",
      "216.0 447 0.48322147651006714\n",
      "217.0 448 0.484375\n"
     ]
    }
   ],
   "source": [
    "# traget/count_sample percent \n",
    "print(np.sum(train_targets),train_sample_count,np.sum(train_targets)/train_sample_count)\n",
    "print(np.sum(validation_targets),validation_sample_count,np.sum(validation_targets)/validation_sample_count)\n",
    "print(np.sum(test_targets),test_sample_count,np.sum(test_targets)/test_sample_count)"
   ]
  },
  {
   "cell_type": "code",
   "execution_count": 11,
   "id": "d420850c",
   "metadata": {},
   "outputs": [],
   "source": [
    "#created npz file for tensorflow\n",
    "\n",
    "np.savez('data_train',inputs=train_inputs,targets=train_targets)\n",
    "np.savez('data_validation',inputs=validation_inputs,targets=validation_targets)\n",
    "np.savez('data_test',inputs=test_inputs,targets=test_targets)"
   ]
  },
  {
   "cell_type": "code",
   "execution_count": 12,
   "id": "ad3507d8",
   "metadata": {},
   "outputs": [],
   "source": [
    "#load npz file for tensorflow\n",
    "\n",
    "npz=np.load('data_train.npz')\n",
    "train_inputs=npz['inputs'].astype(float)\n",
    "train_targets=npz['targets'].astype(int)\n",
    "\n",
    "npz2=np.load('data_validation.npz')\n",
    "validation_inputs=npz2['inputs'].astype(float)\n",
    "validation_targets=npz2['targets'].astype(int)\n",
    "\n",
    "\n",
    "npz3=np.load('data_test.npz')\n",
    "test_inputs=npz3['inputs'].astype(float)\n",
    "test_targets=npz3['targets'].astype(int)"
   ]
  },
  {
   "cell_type": "code",
   "execution_count": 13,
   "id": "0c82b20d",
   "metadata": {},
   "outputs": [],
   "source": [
    "#our model is \n",
    "#      input layers 10 nodes\n",
    "#      hidden layers 50 nodes\n",
    "#      output layers 2 nodes\n",
    "\n",
    "input_size=10\n",
    "output_size=2\n",
    "hidden_layer_size=50\n",
    "\n",
    "model=tf.keras.Sequential([\n",
    "    \n",
    "    tf.keras.layers.Dense(hidden_layer_size,activation='relu'),\n",
    "    tf.keras.layers.Dense(hidden_layer_size,activation='relu'),\n",
    "    \n",
    "    tf.keras.layers.Dense(output_size,activation='softmax'),\n",
    "    # for classification used softmax\n",
    "])\n",
    "model.compile(optimizer='adam',loss='sparse_categorical_crossentropy',metrics=['accuracy'])"
   ]
  },
  {
   "cell_type": "code",
   "execution_count": 18,
   "id": "e5a9d0a6",
   "metadata": {},
   "outputs": [
    {
     "name": "stdout",
     "output_type": "stream",
     "text": [
      "Epoch 1/100\n",
      "20/20 - 0s - loss: 0.3049 - accuracy: 0.8391 - val_loss: 0.3528 - val_accuracy: 0.7987 - 73ms/epoch - 4ms/step\n",
      "Epoch 2/100\n",
      "20/20 - 0s - loss: 0.3034 - accuracy: 0.8338 - val_loss: 0.3537 - val_accuracy: 0.7987 - 49ms/epoch - 2ms/step\n",
      "Epoch 3/100\n",
      "20/20 - 0s - loss: 0.3043 - accuracy: 0.8382 - val_loss: 0.3449 - val_accuracy: 0.8098 - 46ms/epoch - 2ms/step\n",
      "Epoch 4/100\n",
      "20/20 - 0s - loss: 0.3043 - accuracy: 0.8329 - val_loss: 0.3517 - val_accuracy: 0.8031 - 46ms/epoch - 2ms/step\n",
      "Epoch 5/100\n",
      "20/20 - 0s - loss: 0.3039 - accuracy: 0.8315 - val_loss: 0.3469 - val_accuracy: 0.8098 - 48ms/epoch - 2ms/step\n",
      "Epoch 6/100\n",
      "20/20 - 0s - loss: 0.3036 - accuracy: 0.8310 - val_loss: 0.3599 - val_accuracy: 0.8076 - 52ms/epoch - 3ms/step\n",
      "Epoch 7/100\n",
      "20/20 - 0s - loss: 0.3041 - accuracy: 0.8357 - val_loss: 0.3491 - val_accuracy: 0.8121 - 46ms/epoch - 2ms/step\n",
      "Epoch 8/100\n",
      "20/20 - 0s - loss: 0.3044 - accuracy: 0.8304 - val_loss: 0.3543 - val_accuracy: 0.8031 - 46ms/epoch - 2ms/step\n",
      "Epoch 9/100\n",
      "20/20 - 0s - loss: 0.3023 - accuracy: 0.8363 - val_loss: 0.3517 - val_accuracy: 0.8076 - 56ms/epoch - 3ms/step\n",
      "Epoch 10/100\n",
      "20/20 - 0s - loss: 0.3021 - accuracy: 0.8351 - val_loss: 0.3540 - val_accuracy: 0.8009 - 47ms/epoch - 2ms/step\n",
      "Epoch 11/100\n",
      "20/20 - 0s - loss: 0.3021 - accuracy: 0.8393 - val_loss: 0.3538 - val_accuracy: 0.8143 - 47ms/epoch - 2ms/step\n",
      "Epoch 12/100\n",
      "20/20 - 0s - loss: 0.3031 - accuracy: 0.8360 - val_loss: 0.3633 - val_accuracy: 0.8143 - 45ms/epoch - 2ms/step\n",
      "Epoch 13/100\n",
      "20/20 - 0s - loss: 0.3039 - accuracy: 0.8340 - val_loss: 0.3467 - val_accuracy: 0.8054 - 48ms/epoch - 2ms/step\n",
      "Epoch 14/100\n",
      "20/20 - 0s - loss: 0.3043 - accuracy: 0.8354 - val_loss: 0.3470 - val_accuracy: 0.7987 - 47ms/epoch - 2ms/step\n",
      "Epoch 15/100\n",
      "20/20 - 0s - loss: 0.3030 - accuracy: 0.8304 - val_loss: 0.3422 - val_accuracy: 0.8031 - 48ms/epoch - 2ms/step\n",
      "Epoch 16/100\n",
      "20/20 - 0s - loss: 0.3032 - accuracy: 0.8338 - val_loss: 0.3537 - val_accuracy: 0.8054 - 48ms/epoch - 2ms/step\n",
      "Epoch 17/100\n",
      "20/20 - 0s - loss: 0.3021 - accuracy: 0.8385 - val_loss: 0.3466 - val_accuracy: 0.8188 - 51ms/epoch - 3ms/step\n",
      "Epoch 18/100\n",
      "20/20 - 0s - loss: 0.3020 - accuracy: 0.8396 - val_loss: 0.3507 - val_accuracy: 0.7964 - 54ms/epoch - 3ms/step\n",
      "Epoch 19/100\n",
      "20/20 - 0s - loss: 0.3049 - accuracy: 0.8371 - val_loss: 0.3438 - val_accuracy: 0.8031 - 55ms/epoch - 3ms/step\n",
      "Epoch 20/100\n",
      "20/20 - 0s - loss: 0.3034 - accuracy: 0.8349 - val_loss: 0.3490 - val_accuracy: 0.8054 - 50ms/epoch - 2ms/step\n",
      "Epoch 21/100\n",
      "20/20 - 0s - loss: 0.3040 - accuracy: 0.8388 - val_loss: 0.3593 - val_accuracy: 0.8031 - 50ms/epoch - 2ms/step\n",
      "Epoch 22/100\n",
      "20/20 - 0s - loss: 0.3046 - accuracy: 0.8304 - val_loss: 0.3625 - val_accuracy: 0.8031 - 49ms/epoch - 2ms/step\n",
      "Epoch 23/100\n",
      "20/20 - 0s - loss: 0.3019 - accuracy: 0.8363 - val_loss: 0.3598 - val_accuracy: 0.8054 - 50ms/epoch - 2ms/step\n",
      "Epoch 24/100\n",
      "20/20 - 0s - loss: 0.3027 - accuracy: 0.8349 - val_loss: 0.3627 - val_accuracy: 0.8076 - 50ms/epoch - 2ms/step\n",
      "Epoch 25/100\n",
      "20/20 - 0s - loss: 0.3026 - accuracy: 0.8351 - val_loss: 0.3490 - val_accuracy: 0.8031 - 50ms/epoch - 2ms/step\n",
      "Epoch 26/100\n",
      "20/20 - 0s - loss: 0.3032 - accuracy: 0.8324 - val_loss: 0.3554 - val_accuracy: 0.8054 - 49ms/epoch - 2ms/step\n",
      "Epoch 27/100\n",
      "20/20 - 0s - loss: 0.3031 - accuracy: 0.8326 - val_loss: 0.3626 - val_accuracy: 0.8009 - 50ms/epoch - 2ms/step\n",
      "Epoch 28/100\n",
      "20/20 - 0s - loss: 0.3033 - accuracy: 0.8340 - val_loss: 0.3503 - val_accuracy: 0.8076 - 55ms/epoch - 3ms/step\n",
      "Epoch 29/100\n",
      "20/20 - 0s - loss: 0.3002 - accuracy: 0.8396 - val_loss: 0.3522 - val_accuracy: 0.8098 - 52ms/epoch - 3ms/step\n",
      "Epoch 30/100\n",
      "20/20 - 0s - loss: 0.3023 - accuracy: 0.8385 - val_loss: 0.3540 - val_accuracy: 0.8054 - 51ms/epoch - 3ms/step\n",
      "Epoch 31/100\n",
      "20/20 - 0s - loss: 0.3023 - accuracy: 0.8343 - val_loss: 0.3522 - val_accuracy: 0.8054 - 50ms/epoch - 2ms/step\n",
      "Epoch 32/100\n",
      "20/20 - 0s - loss: 0.3005 - accuracy: 0.8391 - val_loss: 0.3498 - val_accuracy: 0.8166 - 50ms/epoch - 2ms/step\n",
      "Epoch 33/100\n",
      "20/20 - 0s - loss: 0.2996 - accuracy: 0.8377 - val_loss: 0.3565 - val_accuracy: 0.8098 - 49ms/epoch - 2ms/step\n",
      "Epoch 34/100\n",
      "20/20 - 0s - loss: 0.2994 - accuracy: 0.8430 - val_loss: 0.3542 - val_accuracy: 0.8143 - 49ms/epoch - 2ms/step\n",
      "Epoch 35/100\n",
      "20/20 - 0s - loss: 0.3017 - accuracy: 0.8402 - val_loss: 0.3552 - val_accuracy: 0.8233 - 48ms/epoch - 2ms/step\n"
     ]
    },
    {
     "data": {
      "text/plain": [
       "<keras.callbacks.History at 0x2a12ccf4100>"
      ]
     },
     "execution_count": 18,
     "metadata": {},
     "output_type": "execute_result"
    }
   ],
   "source": [
    "\n",
    "early_stopping=tf.keras.callbacks.EarlyStopping(patience=20)\n",
    "NUM_EPOCHS=100\n",
    "batch_size=180\n",
    "model.fit(train_inputs,\n",
    "          train_targets,\n",
    "          batch_size=batch_size,\n",
    "          callbacks=[early_stopping],\n",
    "          epochs=NUM_EPOCHS,\n",
    "          validation_data=(validation_inputs,validation_targets),\n",
    "          verbose=2)\n"
   ]
  },
  {
   "cell_type": "code",
   "execution_count": 21,
   "id": "acaf010c",
   "metadata": {},
   "outputs": [
    {
     "name": "stdout",
     "output_type": "stream",
     "text": [
      "14/14 [==============================] - 0s 1ms/step - loss: 0.3164 - accuracy: 0.8237\n",
      "Test loss:0.32.  Test accuracy:  82.37%\n"
     ]
    }
   ],
   "source": [
    "#test model\n",
    "\n",
    "test_loss,test_accuracy=model.evaluate(test_inputs,test_targets)\n",
    "print('Test loss:{0:.2f}.  Test accuracy:  {1:.2f}%'.format(test_loss,test_accuracy*100.))"
   ]
  },
  {
   "cell_type": "code",
   "execution_count": null,
   "id": "6132dbd9",
   "metadata": {},
   "outputs": [],
   "source": []
  }
 ],
 "metadata": {
  "kernelspec": {
   "display_name": "TF2",
   "language": "python",
   "name": "tf2"
  },
  "language_info": {
   "codemirror_mode": {
    "name": "ipython",
    "version": 3
   },
   "file_extension": ".py",
   "mimetype": "text/x-python",
   "name": "python",
   "nbconvert_exporter": "python",
   "pygments_lexer": "ipython3",
   "version": "3.9.15"
  }
 },
 "nbformat": 4,
 "nbformat_minor": 5
}
